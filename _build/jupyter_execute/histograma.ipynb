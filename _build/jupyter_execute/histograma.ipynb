{
 "cells": [
  {
   "cell_type": "markdown",
   "metadata": {},
   "source": [
    "## Histogramas"
   ]
  },
  {
   "cell_type": "code",
   "execution_count": 1,
   "metadata": {},
   "outputs": [
    {
     "data": {
      "text/plain": [
       "(array([ 2.,  1.,  6.,  9., 12., 13., 20., 26., 17., 19., 16., 22.,  9.,\n",
       "         9.,  5.,  7.,  4.,  2.,  0.,  1.]),\n",
       " array([-2.32010697, -2.06064725, -1.80118753, -1.5417278 , -1.28226808,\n",
       "        -1.02280835, -0.76334863, -0.50388891, -0.24442918,  0.01503054,\n",
       "         0.27449027,  0.53394999,  0.79340972,  1.05286944,  1.31232916,\n",
       "         1.57178889,  1.83124861,  2.09070834,  2.35016806,  2.60962778,\n",
       "         2.86908751]),\n",
       " <BarContainer object of 20 artists>)"
      ]
     },
     "execution_count": 1,
     "metadata": {},
     "output_type": "execute_result"
    },
    {
     "data": {
      "image/png": "[encoded data removed]",
      "text/plain": [
       "<Figure size 432x288 with 1 Axes>"
      ]
     },
     "metadata": {
      "filenames": {
       "image/png": "/home/edisson/Documentos/UTPL/Cuarto ciclo/Desarrollo basado en plataformas web/Jupyter/notebooks/presentacion-ae1/_build/jupyter_execute/histograma_1_1.png"
      },
      "needs_background": "light"
     },
     "output_type": "display_data"
    }
   ],
   "source": [
    "# importar todas las funciones de pylab\n",
    "from pylab import *\n",
    "\n",
    "# importar el módulo pyplot\n",
    "import matplotlib.pyplot as plt\n",
    "\n",
    "from pylab import *      # importar todas las funciones de pylab\n",
    "# Importamos el módulo de numeros aleatorios de numpy\n",
    "from numpy import random\n",
    "\n",
    "# utilizo la función randn() del modulo random para generar\n",
    "# un array de números aleatorios con distribución normal\n",
    "nums = random.randn(200)  # array con 200 números aleatorios\n",
    "\n",
    "# generamos el histograma\n",
    "h = hist(nums)\n",
    "hist(nums, bins=20)"
   ]
  },
  {
   "cell_type": "code",
   "execution_count": null,
   "metadata": {},
   "outputs": [],
   "source": []
  }
 ],
 "metadata": {
  "kernelspec": {
   "display_name": "Python 3",
   "language": "python",
   "name": "python3"
  },
  "language_info": {
   "codemirror_mode": {
    "name": "ipython",
    "version": 3
   },
   "file_extension": ".py",
   "mimetype": "text/x-python",
   "name": "python",
   "nbconvert_exporter": "python",
   "pygments_lexer": "ipython3",
   "version": "3.8.5"
  }
 },
 "nbformat": 4,
 "nbformat_minor": 4
}