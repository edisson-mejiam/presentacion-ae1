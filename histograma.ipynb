{
 "cells": [
  {
   "cell_type": "markdown",
   "metadata": {},
   "source": [
    "## Histogramas"
   ]
  },
  {
   "cell_type": "code",
   "execution_count": 2,
   "metadata": {},
   "outputs": [
    {
     "data": {
      "text/plain": [
       "(array([ 2.,  3.,  3.,  9.,  6., 16., 15., 18., 21., 13., 21., 16., 15.,\n",
       "        11., 14.,  6.,  5.,  3.,  0.,  3.]),\n",
       " array([-2.33161528, -2.08258725, -1.83355922, -1.58453118, -1.33550315,\n",
       "        -1.08647512, -0.83744709, -0.58841905, -0.33939102, -0.09036299,\n",
       "         0.15866505,  0.40769308,  0.65672111,  0.90574914,  1.15477718,\n",
       "         1.40380521,  1.65283324,  1.90186128,  2.15088931,  2.39991734,\n",
       "         2.64894537]),\n",
       " <BarContainer object of 20 artists>)"
      ]
     },
     "execution_count": 2,
     "metadata": {},
     "output_type": "execute_result"
    },
    {
     "data": {
      "image/png": "[encoded data removed]",
      "text/plain": [
       "<Figure size 432x288 with 1 Axes>"
      ]
     },
     "metadata": {
      "needs_background": "light"
     },
     "output_type": "display_data"
    }
   ],
   "source": [
    "# importar todas las funciones de pylab\n",
    "from pylab import *\n",
    "\n",
    "# importar el módulo pyplot\n",
    "import matplotlib.pyplot as plt\n",
    "\n",
    "from pylab import *      # importar todas las funciones de pylab\n",
    "# Importamos el módulo de numeros aleatorios de numpy\n",
    "from numpy import random\n",
    "\n",
    "# utilizo la función randn() del modulo random para generar\n",
    "# un array de números aleatorios con distribución normal\n",
    "nums = random.randn(200)  # array con 200 números aleatorios\n",
    "\n",
    "# generamos el histograma\n",
    "h = hist(nums)\n",
    "hist(nums, bins=20)"
   ]
  },
  {
   "cell_type": "code",
   "execution_count": null,
   "metadata": {},
   "outputs": [],
   "source": []
  }
 ],
 "metadata": {
  "kernelspec": {
   "display_name": "Python 3",
   "language": "python",
   "name": "python3"
  },
  "language_info": {
   "codemirror_mode": {
    "name": "ipython",
    "version": 3
   },
   "file_extension": ".py",
   "mimetype": "text/x-python",
   "name": "python",
   "nbconvert_exporter": "python",
   "pygments_lexer": "ipython3",
   "version": "3.8.5"
  }
 },
 "nbformat": 4,
 "nbformat_minor": 4
}
